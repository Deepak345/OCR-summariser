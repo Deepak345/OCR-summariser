{
  "nbformat": 4,
  "nbformat_minor": 0,
  "metadata": {
    "colab": {
      "name": "lsa.ipynb",
      "provenance": [],
      "include_colab_link": true
    },
    "kernelspec": {
      "name": "python3",
      "display_name": "Python 3"
    }
  },
  "cells": [
    {
      "cell_type": "markdown",
      "metadata": {
        "id": "view-in-github",
        "colab_type": "text"
      },
      "source": [
        "<a href=\"https://colab.research.google.com/github/Deepak345/OCR-summariser/blob/master/lsa.ipynb\" target=\"_parent\"><img src=\"https://colab.research.google.com/assets/colab-badge.svg\" alt=\"Open In Colab\"/></a>"
      ]
    },
    {
      "cell_type": "code",
      "metadata": {
        "id": "1Q-9P9mYPihx",
        "colab_type": "code",
        "colab": {}
      },
      "source": [
        "import pandas as pd\n",
        "from sklearn.feature_extraction.text import TfidfVectorizer\n",
        "from sklearn.decomposition import TruncatedSVD"
      ],
      "execution_count": 0,
      "outputs": []
    },
    {
      "cell_type": "code",
      "metadata": {
        "id": "aqdNG3WnRwoy",
        "colab_type": "code",
        "outputId": "7ac65802-37a7-45e8-e880-138d640ed771",
        "colab": {
          "base_uri": "https://localhost:8080/",
          "height": 68
        }
      },
      "source": [
        "import nltk\n",
        "nltk.download(\"punkt\")"
      ],
      "execution_count": 1,
      "outputs": [
        {
          "output_type": "stream",
          "text": [
            "[nltk_data] Downloading package punkt to /root/nltk_data...\n",
            "[nltk_data]   Unzipping tokenizers/punkt.zip.\n"
          ],
          "name": "stdout"
        },
        {
          "output_type": "execute_result",
          "data": {
            "text/plain": [
              "True"
            ]
          },
          "metadata": {
            "tags": []
          },
          "execution_count": 1
        }
      ]
    },
    {
      "cell_type": "code",
      "metadata": {
        "id": "BpR8qsk6QhGV",
        "colab_type": "code",
        "colab": {}
      },
      "source": [
        "from nltk.tokenize import sent_tokenize, word_tokenize "
      ],
      "execution_count": 0,
      "outputs": []
    },
    {
      "cell_type": "code",
      "metadata": {
        "id": "HcmBLwUxRYM_",
        "colab_type": "code",
        "outputId": "41c081c1-8145-420a-990f-327eb29073a9",
        "colab": {
          "base_uri": "https://localhost:8080/",
          "height": 54
        }
      },
      "source": [
        "data = \"Latent semantic analysis (LSA) is a technique in natural language processing, in particular distributional semantics, of analyzing relationships between a set of documents and the terms they contain by producing a set of concepts related to the documents and terms. LSA assumes that words that are close in meaning will occur in similar pieces of text (the distributional hypothesis). A matrix containing word counts per paragraph (rows represent unique words and columns represent each paragraph) is constructed from a large piece of text and a mathematical technique called singular value decomposition (SVD) is used to reduce the number of rows while preserving the similarity structure among columns. Paragraphs are then compared by taking the cosine of the angle between the two vectors (or the dot product between the normalizations of the two vectors) formed by any two columns. Values close to 1 represent very similar paragraphs while values close to 0 represent very dissimilar paragraphs.\"\n",
        "data"
      ],
      "execution_count": 30,
      "outputs": [
        {
          "output_type": "execute_result",
          "data": {
            "text/plain": [
              "'Latent semantic analysis (LSA) is a technique in natural language processing, in particular distributional semantics, of analyzing relationships between a set of documents and the terms they contain by producing a set of concepts related to the documents and terms. LSA assumes that words that are close in meaning will occur in similar pieces of text (the distributional hypothesis). A matrix containing word counts per paragraph (rows represent unique words and columns represent each paragraph) is constructed from a large piece of text and a mathematical technique called singular value decomposition (SVD) is used to reduce the number of rows while preserving the similarity structure among columns. Paragraphs are then compared by taking the cosine of the angle between the two vectors (or the dot product between the normalizations of the two vectors) formed by any two columns. Values close to 1 represent very similar paragraphs while values close to 0 represent very dissimilar paragraphs.'"
            ]
          },
          "metadata": {
            "tags": []
          },
          "execution_count": 30
        }
      ]
    },
    {
      "cell_type": "code",
      "metadata": {
        "id": "MFFYLrMNRlh3",
        "colab_type": "code",
        "outputId": "0f23a9a9-355a-4553-88e2-e539c861b96a",
        "colab": {
          "base_uri": "https://localhost:8080/",
          "height": 122
        }
      },
      "source": [
        "docs = sent_tokenize(data)\n",
        "text = docs\n",
        "text"
      ],
      "execution_count": 31,
      "outputs": [
        {
          "output_type": "execute_result",
          "data": {
            "text/plain": [
              "['Latent semantic analysis (LSA) is a technique in natural language processing, in particular distributional semantics, of analyzing relationships between a set of documents and the terms they contain by producing a set of concepts related to the documents and terms.',\n",
              " 'LSA assumes that words that are close in meaning will occur in similar pieces of text (the distributional hypothesis).',\n",
              " 'A matrix containing word counts per paragraph (rows represent unique words and columns represent each paragraph) is constructed from a large piece of text and a mathematical technique called singular value decomposition (SVD) is used to reduce the number of rows while preserving the similarity structure among columns.',\n",
              " 'Paragraphs are then compared by taking the cosine of the angle between the two vectors (or the dot product between the normalizations of the two vectors) formed by any two columns.',\n",
              " 'Values close to 1 represent very similar paragraphs while values close to 0 represent very dissimilar paragraphs.']"
            ]
          },
          "metadata": {
            "tags": []
          },
          "execution_count": 31
        }
      ]
    },
    {
      "cell_type": "code",
      "metadata": {
        "id": "RZ5CHxr8lLHv",
        "colab_type": "code",
        "outputId": "60b81dab-7132-4f73-855d-9738d55fa89e",
        "colab": {
          "base_uri": "https://localhost:8080/",
          "height": 204
        }
      },
      "source": [
        "df = pd.DataFrame(docs, columns=['sent'])\n",
        "df"
      ],
      "execution_count": 32,
      "outputs": [
        {
          "output_type": "execute_result",
          "data": {
            "text/html": [
              "<div>\n",
              "<style scoped>\n",
              "    .dataframe tbody tr th:only-of-type {\n",
              "        vertical-align: middle;\n",
              "    }\n",
              "\n",
              "    .dataframe tbody tr th {\n",
              "        vertical-align: top;\n",
              "    }\n",
              "\n",
              "    .dataframe thead th {\n",
              "        text-align: right;\n",
              "    }\n",
              "</style>\n",
              "<table border=\"1\" class=\"dataframe\">\n",
              "  <thead>\n",
              "    <tr style=\"text-align: right;\">\n",
              "      <th></th>\n",
              "      <th>sent</th>\n",
              "    </tr>\n",
              "  </thead>\n",
              "  <tbody>\n",
              "    <tr>\n",
              "      <th>0</th>\n",
              "      <td>Latent semantic analysis (LSA) is a technique ...</td>\n",
              "    </tr>\n",
              "    <tr>\n",
              "      <th>1</th>\n",
              "      <td>LSA assumes that words that are close in meani...</td>\n",
              "    </tr>\n",
              "    <tr>\n",
              "      <th>2</th>\n",
              "      <td>A matrix containing word counts per paragraph ...</td>\n",
              "    </tr>\n",
              "    <tr>\n",
              "      <th>3</th>\n",
              "      <td>Paragraphs are then compared by taking the cos...</td>\n",
              "    </tr>\n",
              "    <tr>\n",
              "      <th>4</th>\n",
              "      <td>Values close to 1 represent very similar parag...</td>\n",
              "    </tr>\n",
              "  </tbody>\n",
              "</table>\n",
              "</div>"
            ],
            "text/plain": [
              "                                                sent\n",
              "0  Latent semantic analysis (LSA) is a technique ...\n",
              "1  LSA assumes that words that are close in meani...\n",
              "2  A matrix containing word counts per paragraph ...\n",
              "3  Paragraphs are then compared by taking the cos...\n",
              "4  Values close to 1 represent very similar parag..."
            ]
          },
          "metadata": {
            "tags": []
          },
          "execution_count": 32
        }
      ]
    },
    {
      "cell_type": "code",
      "metadata": {
        "id": "_lZm3b-B_Szs",
        "colab_type": "code",
        "outputId": "58884a89-5df1-497f-def5-d54251076b19",
        "colab": {
          "base_uri": "https://localhost:8080/",
          "height": 68
        }
      },
      "source": [
        "nltk.download('stopwords')"
      ],
      "execution_count": 2,
      "outputs": [
        {
          "output_type": "stream",
          "text": [
            "[nltk_data] Downloading package stopwords to /root/nltk_data...\n",
            "[nltk_data]   Unzipping corpora/stopwords.zip.\n"
          ],
          "name": "stdout"
        },
        {
          "output_type": "execute_result",
          "data": {
            "text/plain": [
              "True"
            ]
          },
          "metadata": {
            "tags": []
          },
          "execution_count": 2
        }
      ]
    },
    {
      "cell_type": "code",
      "metadata": {
        "id": "rtXovP4R_OWK",
        "colab_type": "code",
        "colab": {}
      },
      "source": [
        "from nltk.corpus import stopwords\n",
        "stop = stopwords.words('english')"
      ],
      "execution_count": 0,
      "outputs": []
    },
    {
      "cell_type": "code",
      "metadata": {
        "id": "B5NLFx8J_PEh",
        "colab_type": "code",
        "outputId": "cbbcdd90-86db-4982-b106-146d3b00cae3",
        "colab": {
          "base_uri": "https://localhost:8080/",
          "height": 54
        }
      },
      "source": [
        "df['sent'] = df['sent'].apply(lambda x: ' '.join([word for word in x.split() if word not in (stop)]))\n",
        "df['sent'][0]"
      ],
      "execution_count": 35,
      "outputs": [
        {
          "output_type": "execute_result",
          "data": {
            "text/plain": [
              "'Latent semantic analysis (LSA) technique natural language processing, particular distributional semantics, analyzing relationships set documents terms contain producing set concepts related documents terms.'"
            ]
          },
          "metadata": {
            "tags": []
          },
          "execution_count": 35
        }
      ]
    },
    {
      "cell_type": "code",
      "metadata": {
        "id": "SD4zXNznRs1a",
        "colab_type": "code",
        "outputId": "7f102508-4865-4a7d-f76f-c5da04cd97d0",
        "colab": {
          "base_uri": "https://localhost:8080/",
          "height": 136
        }
      },
      "source": [
        "vectorizer = TfidfVectorizer(max_df = 0.5, min_df = 2, smooth_idf = True)\n",
        "vectorizer.fit(df['sent'])"
      ],
      "execution_count": 36,
      "outputs": [
        {
          "output_type": "execute_result",
          "data": {
            "text/plain": [
              "TfidfVectorizer(analyzer='word', binary=False, decode_error='strict',\n",
              "                dtype=<class 'numpy.float64'>, encoding='utf-8',\n",
              "                input='content', lowercase=True, max_df=0.5, max_features=None,\n",
              "                min_df=2, ngram_range=(1, 1), norm='l2', preprocessor=None,\n",
              "                smooth_idf=True, stop_words=None, strip_accents=None,\n",
              "                sublinear_tf=False, token_pattern='(?u)\\\\b\\\\w\\\\w+\\\\b',\n",
              "                tokenizer=None, use_idf=True, vocabulary=None)"
            ]
          },
          "metadata": {
            "tags": []
          },
          "execution_count": 36
        }
      ]
    },
    {
      "cell_type": "code",
      "metadata": {
        "id": "DwnZoSx7iTvJ",
        "colab_type": "code",
        "outputId": "9eb0b1a8-9a76-48c6-c62f-e3edfe9277bf",
        "colab": {
          "base_uri": "https://localhost:8080/",
          "height": 68
        }
      },
      "source": [
        "print(vectorizer.vocabulary_)\n",
        "print(vectorizer.idf_)"
      ],
      "execution_count": 37,
      "outputs": [
        {
          "output_type": "stream",
          "text": [
            "{'lsa': 3, 'technique': 7, 'distributional': 2, 'words': 9, 'close': 0, 'similar': 6, 'text': 8, 'represent': 5, 'columns': 1, 'paragraphs': 4}\n",
            "[1.69314718 1.69314718 1.69314718 1.69314718 1.69314718 1.69314718\n",
            " 1.69314718 1.69314718 1.69314718 1.69314718]\n"
          ],
          "name": "stdout"
        }
      ]
    },
    {
      "cell_type": "code",
      "metadata": {
        "id": "CPB7kSPniXwS",
        "colab_type": "code",
        "outputId": "f15b21de-ed8d-4268-8bc4-1a5ac3ce4045",
        "colab": {
          "base_uri": "https://localhost:8080/",
          "height": 34
        }
      },
      "source": [
        "vector = vectorizer.transform(df['sent'])\n",
        "# print(vector)\n",
        "print(vector.shape)\n",
        "tfidf = vector.toarray()\n",
        "# tfidf"
      ],
      "execution_count": 38,
      "outputs": [
        {
          "output_type": "stream",
          "text": [
            "(5, 10)\n"
          ],
          "name": "stdout"
        }
      ]
    },
    {
      "cell_type": "code",
      "metadata": {
        "id": "dhXs_NomY0N7",
        "colab_type": "code",
        "outputId": "465a1257-0904-4157-8547-1788ab19d536",
        "colab": {
          "base_uri": "https://localhost:8080/",
          "height": 204
        }
      },
      "source": [
        "tfidf = tfidf.T\n",
        "print(tfidf.shape)\n",
        "print(tfidf)"
      ],
      "execution_count": 39,
      "outputs": [
        {
          "output_type": "stream",
          "text": [
            "(10, 5)\n",
            "[[0.         0.40824829 0.         0.         0.5547002 ]\n",
            " [0.         0.         0.60302269 0.70710678 0.        ]\n",
            " [0.57735027 0.40824829 0.         0.         0.        ]\n",
            " [0.57735027 0.40824829 0.         0.         0.        ]\n",
            " [0.         0.         0.         0.70710678 0.5547002 ]\n",
            " [0.         0.         0.60302269 0.         0.5547002 ]\n",
            " [0.         0.40824829 0.         0.         0.2773501 ]\n",
            " [0.57735027 0.         0.30151134 0.         0.        ]\n",
            " [0.         0.40824829 0.30151134 0.         0.        ]\n",
            " [0.         0.40824829 0.30151134 0.         0.        ]]\n"
          ],
          "name": "stdout"
        }
      ]
    },
    {
      "cell_type": "code",
      "metadata": {
        "id": "45Zg86Re5sW8",
        "colab_type": "code",
        "colab": {}
      },
      "source": [
        "from sklearn.decomposition import TruncatedSVD\n",
        "\n",
        "svd_model = TruncatedSVD(n_components = -(-len(text)//2),algorithm='randomized', n_iter=10, random_state=22)"
      ],
      "execution_count": 0,
      "outputs": []
    },
    {
      "cell_type": "code",
      "metadata": {
        "id": "ScKOIfSxVC2N",
        "colab_type": "code",
        "outputId": "0a2a0131-a4c7-45f9-e11e-f33c77c0e651",
        "colab": {
          "base_uri": "https://localhost:8080/",
          "height": 34
        }
      },
      "source": [
        "svd_model.fit(tfidf)\n",
        "\n",
        "svd_model.n_components"
      ],
      "execution_count": 41,
      "outputs": [
        {
          "output_type": "execute_result",
          "data": {
            "text/plain": [
              "3"
            ]
          },
          "metadata": {
            "tags": []
          },
          "execution_count": 41
        }
      ]
    },
    {
      "cell_type": "code",
      "metadata": {
        "id": "LJjFsLqeVba1",
        "colab_type": "code",
        "outputId": "be09166e-d773-4868-9f27-9ae717cb0dbe",
        "colab": {
          "base_uri": "https://localhost:8080/",
          "height": 68
        }
      },
      "source": [
        "svd_model.components_"
      ],
      "execution_count": 42,
      "outputs": [
        {
          "output_type": "execute_result",
          "data": {
            "text/plain": [
              "array([[ 0.30735003,  0.45000746,  0.52083595,  0.42495099,  0.50117444],\n",
              "       [ 0.62984917,  0.51310073, -0.17410579, -0.50185479, -0.24051322],\n",
              "       [-0.41432952,  0.356272  , -0.42650899, -0.31780859,  0.64690733]])"
            ]
          },
          "metadata": {
            "tags": []
          },
          "execution_count": 42
        }
      ]
    },
    {
      "cell_type": "code",
      "metadata": {
        "id": "wTHG7xs-iXDP",
        "colab_type": "code",
        "colab": {}
      },
      "source": [
        "svc = svd_model.components_\n",
        "svc = svc.tolist()"
      ],
      "execution_count": 0,
      "outputs": []
    },
    {
      "cell_type": "code",
      "metadata": {
        "id": "zdRMv5-5ikac",
        "colab_type": "code",
        "outputId": "64c38a28-b881-4e8f-d93a-12fd3a1eda31",
        "colab": {
          "base_uri": "https://localhost:8080/",
          "height": 272
        }
      },
      "source": [
        "svc"
      ],
      "execution_count": 19,
      "outputs": [
        {
          "output_type": "execute_result",
          "data": {
            "text/plain": [
              "[[0.3073500337440256,\n",
              "  0.4500074569621447,\n",
              "  0.520835947161369,\n",
              "  0.42495098535202247,\n",
              "  0.5011744423141258],\n",
              " [0.6298491686324654,\n",
              "  0.5131007328141923,\n",
              "  -0.17410578876022723,\n",
              "  -0.5018547874025349,\n",
              "  -0.24051322092530797],\n",
              " [-0.4143295175773899,\n",
              "  0.35627199632993245,\n",
              "  -0.426508987538849,\n",
              "  -0.31780859055121163,\n",
              "  0.6469073340252146]]"
            ]
          },
          "metadata": {
            "tags": []
          },
          "execution_count": 19
        }
      ]
    },
    {
      "cell_type": "code",
      "metadata": {
        "id": "-hiL3bRThZpD",
        "colab_type": "code",
        "outputId": "507aff90-b41d-4caa-977a-e219d8421f09",
        "colab": {
          "base_uri": "https://localhost:8080/",
          "height": 258
        }
      },
      "source": [
        "summary = ''\n",
        "p_pos = 0\n",
        "for _ in range(len(svc)):\n",
        "  m = max(svc[_])\n",
        "  print(m)\n",
        "  pos = svc[_].index(m)\n",
        "  print(pos)\n",
        "  print(text[pos])\n",
        "  if pos > p_pos:\n",
        "    summary = summary + '\\n' + text[pos]\n",
        "  else:\n",
        "    summary = text[pos] + '\\n' + summary  \n",
        "  p_pos = pos\n",
        "print(summary)"
      ],
      "execution_count": 20,
      "outputs": [
        {
          "output_type": "stream",
          "text": [
            "0.520835947161369\n",
            "2\n",
            "A matrix containing word counts per paragraph (rows represent unique words and columns represent each paragraph) is constructed from a large piece of text and a mathematical technique called singular value decomposition (SVD) is used to reduce the number of rows while preserving the similarity structure among columns.\n",
            "0.6298491686324654\n",
            "0\n",
            "Latent semantic analysis (LSA) is a technique in natural language processing, in particular distributional semantics, of analyzing relationships between a set of documents and the terms they contain by producing a set of concepts related to the documents and terms.\n",
            "0.6469073340252146\n",
            "4\n",
            "Values close to 1 represent very similar paragraphs while values close to 0 represent very dissimilar paragraphs.\n",
            "Latent semantic analysis (LSA) is a technique in natural language processing, in particular distributional semantics, of analyzing relationships between a set of documents and the terms they contain by producing a set of concepts related to the documents and terms.\n",
            "\n",
            "A matrix containing word counts per paragraph (rows represent unique words and columns represent each paragraph) is constructed from a large piece of text and a mathematical technique called singular value decomposition (SVD) is used to reduce the number of rows while preserving the similarity structure among columns.\n",
            "Values close to 1 represent very similar paragraphs while values close to 0 represent very dissimilar paragraphs.\n"
          ],
          "name": "stdout"
        }
      ]
    },
    {
      "cell_type": "code",
      "metadata": {
        "id": "U14FFXyBCYeB",
        "colab_type": "code",
        "colab": {}
      },
      "source": [
        ""
      ],
      "execution_count": 0,
      "outputs": []
    },
    {
      "cell_type": "markdown",
      "metadata": {
        "id": "04Asrpo1Wtcd",
        "colab_type": "text"
      },
      "source": [
        "## Implemented Summariser"
      ]
    },
    {
      "cell_type": "code",
      "metadata": {
        "id": "gWSCBTcN3KXR",
        "colab_type": "code",
        "colab": {}
      },
      "source": [
        "import pandas as pd\n",
        "from sklearn.feature_extraction.text import TfidfVectorizer\n",
        "from sklearn.decomposition import TruncatedSVD\n",
        "\n",
        "from nltk.tokenize import sent_tokenize, word_tokenize \n",
        "from nltk.corpus import stopwords\n",
        "\n",
        "from sklearn.decomposition import TruncatedSVD"
      ],
      "execution_count": 0,
      "outputs": []
    },
    {
      "cell_type": "code",
      "metadata": {
        "id": "DKW7EtBD3PVk",
        "colab_type": "code",
        "colab": {}
      },
      "source": [
        "def preprocessing(data):\n",
        "  text = sent_tokenize(data)\n",
        "  df = pd.DataFrame(text, columns=['sent'])\n",
        "\n",
        "  stop = stopwords.words('english')\n",
        "  df['sent'] = df['sent'].apply(lambda x: ' '.join([word for word in x.split() if word not in (stop)]))\n",
        "  return text, df"
      ],
      "execution_count": 0,
      "outputs": []
    },
    {
      "cell_type": "code",
      "metadata": {
        "id": "yUfdy_WY7ilx",
        "colab_type": "code",
        "colab": {}
      },
      "source": [
        "def summary(text, df) :\n",
        "  vectorizer = TfidfVectorizer(max_df = 0.5, min_df = 2, smooth_idf = True)\n",
        "  vectorizer.fit(df['sent'])\n",
        "  vector = vectorizer.transform(df['sent'])\n",
        "  tfidf = vector.toarray()\n",
        "  tfidf = tfidf.T\n",
        "\n",
        "  svd_model = TruncatedSVD(n_components = -(-len(text)//3),algorithm='randomized', n_iter=10, random_state=22)\n",
        "  svd_model.fit(tfidf)\n",
        "  svc = svd_model.components_\n",
        "  svc = svc.tolist()\n",
        "\n",
        "  summary = ''\n",
        "  p_pos = 0\n",
        "  for _ in range(len(svc)):\n",
        "    m = max(svc[_])\n",
        "    # print(m)\n",
        "    pos = svc[_].index(m)\n",
        "    # print(pos)\n",
        "    # print(text[pos])\n",
        "    if pos > p_pos:\n",
        "      summary = summary + '\\n' + text[pos]\n",
        "    else:\n",
        "      summary = text[pos] + '\\n' + summary  \n",
        "    p_pos = pos\n",
        "  return summary"
      ],
      "execution_count": 0,
      "outputs": []
    },
    {
      "cell_type": "code",
      "metadata": {
        "id": "X1sGW_Gd9_we",
        "colab_type": "code",
        "outputId": "77357524-130d-45b0-9ec4-d097c34c7c11",
        "colab": {
          "base_uri": "https://localhost:8080/",
          "height": 105
        }
      },
      "source": [
        "data = \"Latent semantic analysis (LSA) is a technique in natural language processing, in particular distributional semantics, of analyzing relationships between a set of documents and the terms they contain by producing a set of concepts related to the documents and terms. LSA assumes that words that are close in meaning will occur in similar pieces of text (the distributional hypothesis). A matrix containing word counts per paragraph (rows represent unique words and columns represent each paragraph) is constructed from a large piece of text and a mathematical technique called singular value decomposition (SVD) is used to reduce the number of rows while preserving the similarity structure among columns. Paragraphs are then compared by taking the cosine of the angle between the two vectors (or the dot product between the normalizations of the two vectors) formed by any two columns. Values close to 1 represent very similar paragraphs while values close to 0 represent very dissimilar paragraphs.\"\n",
        "text,df = preprocessing(data)\n",
        "summar = summary(text, df)\n",
        "\n",
        "print(summar)"
      ],
      "execution_count": 67,
      "outputs": [
        {
          "output_type": "stream",
          "text": [
            "Latent semantic analysis (LSA) is a technique in natural language processing, in particular distributional semantics, of analyzing relationships between a set of documents and the terms they contain by producing a set of concepts related to the documents and terms.\n",
            "\n",
            "A matrix containing word counts per paragraph (rows represent unique words and columns represent each paragraph) is constructed from a large piece of text and a mathematical technique called singular value decomposition (SVD) is used to reduce the number of rows while preserving the similarity structure among columns.\n",
            "Values close to 1 represent very similar paragraphs while values close to 0 represent very dissimilar paragraphs.\n"
          ],
          "name": "stdout"
        }
      ]
    },
    {
      "cell_type": "markdown",
      "metadata": {
        "id": "NKCMQYP-k-9u",
        "colab_type": "text"
      },
      "source": [
        "# Implementing rouge"
      ]
    },
    {
      "cell_type": "code",
      "metadata": {
        "id": "eUA52eNkICz4",
        "colab_type": "code",
        "colab": {}
      },
      "source": [
        "import os\n",
        "os.environ['KAGGLE_USERNAME'] = xxx\n",
        "os.environ[\"KAGGLE_KEY\"] = xxxx"
      ],
      "execution_count": 0,
      "outputs": []
    },
    {
      "cell_type": "code",
      "metadata": {
        "id": "E9Kzhs09ihrr",
        "colab_type": "code",
        "colab": {
          "base_uri": "https://localhost:8080/",
          "height": 68
        },
        "outputId": "d961e210-d4d9-493a-ee05-118f29a08420"
      },
      "source": [
        "!kaggle datasets download -d sunnysai12345/news-summary"
      ],
      "execution_count": 11,
      "outputs": [
        {
          "output_type": "stream",
          "text": [
            "Downloading news-summary.zip to /content\n",
            " 25% 5.00M/19.8M [00:00<00:01, 14.6MB/s]\n",
            "100% 19.8M/19.8M [00:00<00:00, 44.6MB/s]\n"
          ],
          "name": "stdout"
        }
      ]
    },
    {
      "cell_type": "code",
      "metadata": {
        "id": "fcimPYgkkSRV",
        "colab_type": "code",
        "colab": {
          "base_uri": "https://localhost:8080/",
          "height": 68
        },
        "outputId": "009c9f43-9124-4323-d191-f2618b52be50"
      },
      "source": [
        "!unzip news-summary.zip"
      ],
      "execution_count": 12,
      "outputs": [
        {
          "output_type": "stream",
          "text": [
            "Archive:  news-summary.zip\n",
            "  inflating: news_summary.csv        \n",
            "  inflating: news_summary_more.csv   \n"
          ],
          "name": "stdout"
        }
      ]
    },
    {
      "cell_type": "code",
      "metadata": {
        "id": "iEmp777Vkj-v",
        "colab_type": "code",
        "colab": {}
      },
      "source": [
        "import pandas as pd\n",
        "import pandas_profiling"
      ],
      "execution_count": 0,
      "outputs": []
    },
    {
      "cell_type": "code",
      "metadata": {
        "id": "sUbD9RcclSxn",
        "colab_type": "code",
        "colab": {}
      },
      "source": [
        "df = pd.read_csv(\"news_summary.csv\", encoding='latin-1')"
      ],
      "execution_count": 0,
      "outputs": []
    },
    {
      "cell_type": "code",
      "metadata": {
        "id": "-x_hrGF5lmHJ",
        "colab_type": "code",
        "colab": {
          "base_uri": "https://localhost:8080/",
          "height": 207
        },
        "outputId": "c925ddba-cdf2-4e4d-84bb-613b16d34d6e"
      },
      "source": [
        "df.describe()"
      ],
      "execution_count": 15,
      "outputs": [
        {
          "output_type": "execute_result",
          "data": {
            "text/html": [
              "<div>\n",
              "<style scoped>\n",
              "    .dataframe tbody tr th:only-of-type {\n",
              "        vertical-align: middle;\n",
              "    }\n",
              "\n",
              "    .dataframe tbody tr th {\n",
              "        vertical-align: top;\n",
              "    }\n",
              "\n",
              "    .dataframe thead th {\n",
              "        text-align: right;\n",
              "    }\n",
              "</style>\n",
              "<table border=\"1\" class=\"dataframe\">\n",
              "  <thead>\n",
              "    <tr style=\"text-align: right;\">\n",
              "      <th></th>\n",
              "      <th>author</th>\n",
              "      <th>date</th>\n",
              "      <th>headlines</th>\n",
              "      <th>read_more</th>\n",
              "      <th>text</th>\n",
              "      <th>ctext</th>\n",
              "    </tr>\n",
              "  </thead>\n",
              "  <tbody>\n",
              "    <tr>\n",
              "      <th>count</th>\n",
              "      <td>4514</td>\n",
              "      <td>4514</td>\n",
              "      <td>4514</td>\n",
              "      <td>4514</td>\n",
              "      <td>4514</td>\n",
              "      <td>4396</td>\n",
              "    </tr>\n",
              "    <tr>\n",
              "      <th>unique</th>\n",
              "      <td>45</td>\n",
              "      <td>240</td>\n",
              "      <td>4514</td>\n",
              "      <td>4461</td>\n",
              "      <td>4514</td>\n",
              "      <td>4341</td>\n",
              "    </tr>\n",
              "    <tr>\n",
              "      <th>top</th>\n",
              "      <td>Chhavi Tyagi</td>\n",
              "      <td>19 Jul 2017,Wednesday</td>\n",
              "      <td>Rajkummar Rao starrer Newton wins award at Ber...</td>\n",
              "      <td>http://indiatoday.intoday.in/story/assembly-el...</td>\n",
              "      <td>The first rail freight linking the UK to China...</td>\n",
              "      <td>AAJ TAK LIVE TV WITH LIVE ELECTION RESULTS I c...</td>\n",
              "    </tr>\n",
              "    <tr>\n",
              "      <th>freq</th>\n",
              "      <td>559</td>\n",
              "      <td>76</td>\n",
              "      <td>1</td>\n",
              "      <td>13</td>\n",
              "      <td>1</td>\n",
              "      <td>13</td>\n",
              "    </tr>\n",
              "  </tbody>\n",
              "</table>\n",
              "</div>"
            ],
            "text/plain": [
              "              author  ...                                              ctext\n",
              "count           4514  ...                                               4396\n",
              "unique            45  ...                                               4341\n",
              "top     Chhavi Tyagi  ...  AAJ TAK LIVE TV WITH LIVE ELECTION RESULTS I c...\n",
              "freq             559  ...                                                 13\n",
              "\n",
              "[4 rows x 6 columns]"
            ]
          },
          "metadata": {
            "tags": []
          },
          "execution_count": 15
        }
      ]
    },
    {
      "cell_type": "code",
      "metadata": {
        "id": "TSaGGsxJmTaY",
        "colab_type": "code",
        "colab": {
          "base_uri": "https://localhost:8080/",
          "height": 391
        },
        "outputId": "d5f71f45-904d-4c8e-8bfa-85a56e436f88"
      },
      "source": [
        "df.head()"
      ],
      "execution_count": 16,
      "outputs": [
        {
          "output_type": "execute_result",
          "data": {
            "text/html": [
              "<div>\n",
              "<style scoped>\n",
              "    .dataframe tbody tr th:only-of-type {\n",
              "        vertical-align: middle;\n",
              "    }\n",
              "\n",
              "    .dataframe tbody tr th {\n",
              "        vertical-align: top;\n",
              "    }\n",
              "\n",
              "    .dataframe thead th {\n",
              "        text-align: right;\n",
              "    }\n",
              "</style>\n",
              "<table border=\"1\" class=\"dataframe\">\n",
              "  <thead>\n",
              "    <tr style=\"text-align: right;\">\n",
              "      <th></th>\n",
              "      <th>author</th>\n",
              "      <th>date</th>\n",
              "      <th>headlines</th>\n",
              "      <th>read_more</th>\n",
              "      <th>text</th>\n",
              "      <th>ctext</th>\n",
              "    </tr>\n",
              "  </thead>\n",
              "  <tbody>\n",
              "    <tr>\n",
              "      <th>0</th>\n",
              "      <td>Chhavi Tyagi</td>\n",
              "      <td>03 Aug 2017,Thursday</td>\n",
              "      <td>Daman &amp; Diu revokes mandatory Rakshabandhan in...</td>\n",
              "      <td>http://www.hindustantimes.com/india-news/raksh...</td>\n",
              "      <td>The Administration of Union Territory Daman an...</td>\n",
              "      <td>The Daman and Diu administration on Wednesday ...</td>\n",
              "    </tr>\n",
              "    <tr>\n",
              "      <th>1</th>\n",
              "      <td>Daisy Mowke</td>\n",
              "      <td>03 Aug 2017,Thursday</td>\n",
              "      <td>Malaika slams user who trolled her for 'divorc...</td>\n",
              "      <td>http://www.hindustantimes.com/bollywood/malaik...</td>\n",
              "      <td>Malaika Arora slammed an Instagram user who tr...</td>\n",
              "      <td>From her special numbers to TV?appearances, Bo...</td>\n",
              "    </tr>\n",
              "    <tr>\n",
              "      <th>2</th>\n",
              "      <td>Arshiya Chopra</td>\n",
              "      <td>03 Aug 2017,Thursday</td>\n",
              "      <td>'Virgin' now corrected to 'Unmarried' in IGIMS...</td>\n",
              "      <td>http://www.hindustantimes.com/patna/bihar-igim...</td>\n",
              "      <td>The Indira Gandhi Institute of Medical Science...</td>\n",
              "      <td>The Indira Gandhi Institute of Medical Science...</td>\n",
              "    </tr>\n",
              "    <tr>\n",
              "      <th>3</th>\n",
              "      <td>Sumedha Sehra</td>\n",
              "      <td>03 Aug 2017,Thursday</td>\n",
              "      <td>Aaj aapne pakad liya: LeT man Dujana before be...</td>\n",
              "      <td>http://indiatoday.intoday.in/story/abu-dujana-...</td>\n",
              "      <td>Lashkar-e-Taiba's Kashmir commander Abu Dujana...</td>\n",
              "      <td>Lashkar-e-Taiba's Kashmir commander Abu Dujana...</td>\n",
              "    </tr>\n",
              "    <tr>\n",
              "      <th>4</th>\n",
              "      <td>Aarushi Maheshwari</td>\n",
              "      <td>03 Aug 2017,Thursday</td>\n",
              "      <td>Hotel staff to get training to spot signs of s...</td>\n",
              "      <td>http://indiatoday.intoday.in/story/sex-traffic...</td>\n",
              "      <td>Hotels in Maharashtra will train their staff t...</td>\n",
              "      <td>Hotels in Mumbai and other Indian cities are t...</td>\n",
              "    </tr>\n",
              "  </tbody>\n",
              "</table>\n",
              "</div>"
            ],
            "text/plain": [
              "               author  ...                                              ctext\n",
              "0        Chhavi Tyagi  ...  The Daman and Diu administration on Wednesday ...\n",
              "1         Daisy Mowke  ...  From her special numbers to TV?appearances, Bo...\n",
              "2      Arshiya Chopra  ...  The Indira Gandhi Institute of Medical Science...\n",
              "3       Sumedha Sehra  ...  Lashkar-e-Taiba's Kashmir commander Abu Dujana...\n",
              "4  Aarushi Maheshwari  ...  Hotels in Mumbai and other Indian cities are t...\n",
              "\n",
              "[5 rows x 6 columns]"
            ]
          },
          "metadata": {
            "tags": []
          },
          "execution_count": 16
        }
      ]
    },
    {
      "cell_type": "code",
      "metadata": {
        "id": "HXBAfyNpmWi-",
        "colab_type": "code",
        "colab": {}
      },
      "source": [
        "df = df.drop(labels=['author', 'date', 'headlines', 'read_more'], axis = 1)"
      ],
      "execution_count": 0,
      "outputs": []
    },
    {
      "cell_type": "code",
      "metadata": {
        "id": "4gJWqzShmobe",
        "colab_type": "code",
        "colab": {
          "base_uri": "https://localhost:8080/",
          "height": 54
        },
        "outputId": "ffbf86c9-959d-4d3c-bbb5-f9d33e7fdc87"
      },
      "source": [
        "df['text'][0]"
      ],
      "execution_count": 18,
      "outputs": [
        {
          "output_type": "execute_result",
          "data": {
            "text/plain": [
              "'The Administration of Union Territory Daman and Diu has revoked its order that made it compulsory for women to tie rakhis to their male colleagues on the occasion of Rakshabandhan on August 7. The administration was forced to withdraw the decision within 24 hours of issuing the circular after it received flak from employees and was slammed on social media.'"
            ]
          },
          "metadata": {
            "tags": []
          },
          "execution_count": 18
        }
      ]
    },
    {
      "cell_type": "code",
      "metadata": {
        "id": "CypqRLaJmvET",
        "colab_type": "code",
        "colab": {
          "base_uri": "https://localhost:8080/",
          "height": 54
        },
        "outputId": "e0473785-48eb-4b84-a541-64fef3a978df"
      },
      "source": [
        "df['ctext'][0]"
      ],
      "execution_count": 19,
      "outputs": [
        {
          "output_type": "execute_result",
          "data": {
            "text/plain": [
              "'The Daman and Diu administration on Wednesday withdrew a circular that asked women staff to tie rakhis on male colleagues after the order triggered a backlash from employees and was ripped apart on social media.The union territory?s administration was forced to retreat within 24 hours of issuing the circular that made it compulsory for its staff to celebrate Rakshabandhan at workplace.?It has been decided to celebrate the festival of Rakshabandhan on August 7. In this connection, all offices/ departments shall remain open and celebrate the festival collectively at a suitable time wherein all the lady staff shall tie rakhis to their colleagues,? the order, issued on August 1 by Gurpreet Singh, deputy secretary (personnel), had said.To ensure that no one skipped office, an attendance report was to be sent to the government the next evening.The two notifications ? one mandating the celebration of Rakshabandhan (left) and the other withdrawing the mandate (right) ? were issued by the Daman and Diu administration a day apart. The circular was withdrawn through a one-line order issued late in the evening by the UT?s department of personnel and administrative reforms.?The circular is ridiculous. There are sensitivities involved. How can the government dictate who I should tie rakhi to? We should maintain the professionalism of a workplace? an official told Hindustan Times earlier in the day. She refused to be identified.The notice was issued on Daman and Diu administrator and former Gujarat home minister Praful Kodabhai Patel?s direction, sources said.Rakshabandhan, a celebration of the bond between brothers and sisters, is one of several Hindu festivities and rituals that are no longer confined of private, family affairs but have become tools to push politic al ideologies.In 2014, the year BJP stormed to power at the Centre, Rashtriya Swayamsevak Sangh (RSS) chief Mohan Bhagwat said the festival had ?national significance? and should be celebrated widely ?to protect Hindu culture and live by the values enshrined in it?. The RSS is the ideological parent of the ruling BJP.Last year, women ministers in the Modi government went to the border areas to celebrate the festival with soldiers. A year before, all cabinet ministers were asked to go to their constituencies for the festival.'"
            ]
          },
          "metadata": {
            "tags": []
          },
          "execution_count": 19
        }
      ]
    },
    {
      "cell_type": "code",
      "metadata": {
        "id": "5yCg34EenW-5",
        "colab_type": "code",
        "colab": {
          "base_uri": "https://localhost:8080/",
          "height": 105
        },
        "outputId": "987ac18e-3267-4353-c8f5-48e189228469"
      },
      "source": [
        "!pip install rouge"
      ],
      "execution_count": 21,
      "outputs": [
        {
          "output_type": "stream",
          "text": [
            "Collecting rouge\n",
            "  Downloading https://files.pythonhosted.org/packages/63/ac/b93411318529980ab7f41e59ed64ec3ffed08ead32389e29eb78585dd55d/rouge-0.3.2-py3-none-any.whl\n",
            "Installing collected packages: rouge\n",
            "Successfully installed rouge-0.3.2\n"
          ],
          "name": "stdout"
        }
      ]
    },
    {
      "cell_type": "code",
      "metadata": {
        "id": "oA5j0kRzohIp",
        "colab_type": "code",
        "colab": {}
      },
      "source": [
        "from rouge import Rouge \n",
        "rouge = Rouge()"
      ],
      "execution_count": 0,
      "outputs": []
    },
    {
      "cell_type": "code",
      "metadata": {
        "id": "TRdHIPwLo7oh",
        "colab_type": "code",
        "colab": {}
      },
      "source": [
        "reference = df['text'][0]"
      ],
      "execution_count": 0,
      "outputs": []
    },
    {
      "cell_type": "code",
      "metadata": {
        "id": "zUCIGks_oosC",
        "colab_type": "code",
        "colab": {}
      },
      "source": [
        "data = df['ctext'][0]\n",
        "\n",
        "text,d = preprocessing(data)\n",
        "summar = summary(text, d)"
      ],
      "execution_count": 0,
      "outputs": []
    },
    {
      "cell_type": "code",
      "metadata": {
        "id": "jlj8d1hbpN2-",
        "colab_type": "code",
        "colab": {
          "base_uri": "https://localhost:8080/",
          "height": 170
        },
        "outputId": "3c87204d-6d32-44f8-ad31-a6573323d2ef"
      },
      "source": [
        "scores_custom = rouge.get_scores(summar, reference)\n",
        "scores_custom"
      ],
      "execution_count": 26,
      "outputs": [
        {
          "output_type": "execute_result",
          "data": {
            "text/plain": [
              "[{'rouge-1': {'f': 0.2519684992349185,\n",
              "   'p': 0.20253164556962025,\n",
              "   'r': 0.3333333333333333},\n",
              "  'rouge-2': {'f': 0.0636942628244557,\n",
              "   'p': 0.05102040816326531,\n",
              "   'r': 0.0847457627118644},\n",
              "  'rouge-l': {'f': 0.15571599205407627,\n",
              "   'p': 0.13924050632911392,\n",
              "   'r': 0.22916666666666666}}]"
            ]
          },
          "metadata": {
            "tags": []
          },
          "execution_count": 26
        }
      ]
    },
    {
      "cell_type": "markdown",
      "metadata": {
        "id": "9PexXmaZTMqZ",
        "colab_type": "text"
      },
      "source": [
        "## **Evaluation**"
      ]
    },
    {
      "cell_type": "markdown",
      "metadata": {
        "id": "IreBoH0aTotn",
        "colab_type": "text"
      },
      "source": [
        "### Baseline "
      ]
    },
    {
      "cell_type": "code",
      "metadata": {
        "id": "AlmtlPpMTtQI",
        "colab_type": "code",
        "colab": {
          "base_uri": "https://localhost:8080/",
          "height": 547
        },
        "outputId": "cbab1147-b5ec-4c7b-ef76-fa601c7820ba"
      },
      "source": [
        "  ! pip install git+https://github.com/miso-belica/sumy.git"
      ],
      "execution_count": 27,
      "outputs": [
        {
          "output_type": "stream",
          "text": [
            "Collecting git+https://github.com/miso-belica/sumy.git\n",
            "  Cloning https://github.com/miso-belica/sumy.git to /tmp/pip-req-build-73w1x0t9\n",
            "  Running command git clone -q https://github.com/miso-belica/sumy.git /tmp/pip-req-build-73w1x0t9\n",
            "Requirement already satisfied: docopt<0.7,>=0.6.1 in /usr/local/lib/python3.6/dist-packages (from sumy==0.8.1) (0.6.2)\n",
            "Collecting breadability>=0.1.20\n",
            "  Downloading https://files.pythonhosted.org/packages/ad/2d/bb6c9b381e6b6a432aa2ffa8f4afdb2204f1ff97cfcc0766a5b7683fec43/breadability-0.1.20.tar.gz\n",
            "Requirement already satisfied: requests>=2.7.0 in /usr/local/lib/python3.6/dist-packages (from sumy==0.8.1) (2.21.0)\n",
            "Collecting pycountry>=18.2.23\n",
            "\u001b[?25l  Downloading https://files.pythonhosted.org/packages/16/b6/154fe93072051d8ce7bf197690957b6d0ac9a21d51c9a1d05bd7c6fdb16f/pycountry-19.8.18.tar.gz (10.0MB)\n",
            "\u001b[K     |████████████████████████████████| 10.0MB 22.5MB/s \n",
            "\u001b[?25hRequirement already satisfied: nltk>=3.0.2 in /usr/local/lib/python3.6/dist-packages (from sumy==0.8.1) (3.2.5)\n",
            "Requirement already satisfied: chardet in /usr/local/lib/python3.6/dist-packages (from breadability>=0.1.20->sumy==0.8.1) (3.0.4)\n",
            "Requirement already satisfied: lxml>=2.0 in /usr/local/lib/python3.6/dist-packages (from breadability>=0.1.20->sumy==0.8.1) (4.2.6)\n",
            "Requirement already satisfied: certifi>=2017.4.17 in /usr/local/lib/python3.6/dist-packages (from requests>=2.7.0->sumy==0.8.1) (2019.9.11)\n",
            "Requirement already satisfied: idna<2.9,>=2.5 in /usr/local/lib/python3.6/dist-packages (from requests>=2.7.0->sumy==0.8.1) (2.8)\n",
            "Requirement already satisfied: urllib3<1.25,>=1.21.1 in /usr/local/lib/python3.6/dist-packages (from requests>=2.7.0->sumy==0.8.1) (1.24.3)\n",
            "Requirement already satisfied: six in /usr/local/lib/python3.6/dist-packages (from nltk>=3.0.2->sumy==0.8.1) (1.12.0)\n",
            "Building wheels for collected packages: sumy, breadability, pycountry\n",
            "  Building wheel for sumy (setup.py) ... \u001b[?25l\u001b[?25hdone\n",
            "  Created wheel for sumy: filename=sumy-0.8.1-py2.py3-none-any.whl size=86993 sha256=a5e4cc0bec0b2d5f38e75a47d9cf25277f30f7dee3a48cd5ae1aa460b643ed92\n",
            "  Stored in directory: /tmp/pip-ephem-wheel-cache-3n4wm159/wheels/a3/4f/24/b64d78315f591ef9b7cdcdf3a70bd060d0475ec927c0d914a0\n",
            "  Building wheel for breadability (setup.py) ... \u001b[?25l\u001b[?25hdone\n",
            "  Created wheel for breadability: filename=breadability-0.1.20-py2.py3-none-any.whl size=21682 sha256=b685c0e34d6ca7716a7a0a8b16a3dee6c5c70dc094d1524179ad7b885bc0a991\n",
            "  Stored in directory: /root/.cache/pip/wheels/5a/4d/a1/510b12c5e65e0b2b3ce539b2af66da0fc57571e528924f4a52\n",
            "  Building wheel for pycountry (setup.py) ... \u001b[?25l\u001b[?25hdone\n",
            "  Created wheel for pycountry: filename=pycountry-19.8.18-py2.py3-none-any.whl size=10627360 sha256=d9eab3dae7e89a3ed2199212d7e406a9780e333667691325b08eed447c6cd1a4\n",
            "  Stored in directory: /root/.cache/pip/wheels/a2/98/bf/f0fa1c6bf8cf2cbdb750d583f84be51c2cd8272460b8b36bd3\n",
            "Successfully built sumy breadability pycountry\n",
            "Installing collected packages: breadability, pycountry, sumy\n",
            "Successfully installed breadability-0.1.20 pycountry-19.8.18 sumy-0.8.1\n"
          ],
          "name": "stdout"
        }
      ]
    },
    {
      "cell_type": "code",
      "metadata": {
        "id": "ZmvjXKI6Tywi",
        "colab_type": "code",
        "colab": {}
      },
      "source": [
        "\n",
        "from gensim.summarization import summarize\n",
        "from sumy.utils import get_stop_words\n",
        "from sumy.nlp.stemmers import Stemmer\n",
        "from sumy.parsers.plaintext import PlaintextParser\n",
        "from sumy.nlp.tokenizers import Tokenizer as sumytoken\n",
        "from sumy.summarizers.lex_rank import LexRankSummarizer\n",
        "from sumy.utils import get_stop_words\n",
        "from sumy.nlp.stemmers import Stemmer\n",
        "from sumy.parsers.plaintext import PlaintextParser\n",
        "from sumy.nlp.tokenizers import Tokenizer as sumytoken\n",
        "\n",
        "from sumy.summarizers.lsa import LsaSummarizer as Summarizer\n",
        "from sumy.utils import get_stop_words\n",
        "from sumy.nlp.stemmers import Stemmer\n",
        "from sumy.parsers.plaintext import PlaintextParser\n",
        "from sumy.nlp.tokenizers import Tokenizer as sumytoken\n",
        "\n",
        "from sumy.summarizers.luhn import LuhnSummarizer\n",
        "\n",
        "\n",
        "def gensim_summarizer(text):\n",
        "    return (summarize(text))\n",
        "\n",
        "def lexrank_summarizer(text, stemmer, LANGUAGE, SENTENCES_COUNT):\n",
        "    parser = PlaintextParser.from_string((text), sumytoken(LANGUAGE))\n",
        "    summarizer_LexRank = LexRankSummarizer(stemmer)\n",
        "    summarizer_LexRank.stop_words = get_stop_words(LANGUAGE)\n",
        "    sentences = []\n",
        "    for sentence in summarizer_LexRank(parser.document, SENTENCES_COUNT):\n",
        "        a = sentence\n",
        "        sentences.append(str(a))\n",
        "    return \" \".join(sentences)\n",
        "\n",
        "def lsa_summarizer(text, stemmer, LANGUAGE, SENTENCES_COUNT):\n",
        "    parser = PlaintextParser.from_string((text), sumytoken(LANGUAGE))\n",
        "    summarizer_lsa = Summarizer(stemmer)\n",
        "    summarizer_lsa.stop_words = get_stop_words(LANGUAGE)\n",
        "    sentences = []\n",
        "    for sentence in summarizer_lsa(parser.document, SENTENCES_COUNT):\n",
        "        a = sentence\n",
        "        sentences.append(str(a))\n",
        "    return \" \".join(sentences)\n",
        "\n",
        "def luhn_summarizer(text, stemmer, LANGUAGE, SENTENCES_COUNT):\n",
        "    parser = PlaintextParser.from_string(text, sumytoken(LANGUAGE))\n",
        "    summarizer_luhn = LuhnSummarizer(stemmer)\n",
        "    summarizer_luhn.stop_words = get_stop_words(LANGUAGE)\n",
        "    sentences = []\n",
        "    for sentence in summarizer_luhn(parser.document, SENTENCES_COUNT):\n",
        "        a = sentence\n",
        "        sentences.append(str(a))\n",
        "    return \" \".join(sentences)\n",
        "\n"
      ],
      "execution_count": 0,
      "outputs": []
    },
    {
      "cell_type": "code",
      "metadata": {
        "id": "xjEjwFy5T8Nx",
        "colab_type": "code",
        "colab": {}
      },
      "source": [
        "from sumy.nlp.stemmers import Stemmer\n",
        "\n",
        "LANGUAGE = \"english\"\n",
        "stemmer = Stemmer(LANGUAGE)\n",
        "text = df['ctext'][0]\n",
        "SENTENCES_COUNT = -(-len(text)//3)\n",
        "\n",
        "gensim_summary = gensim_summarizer(text)\n",
        "lexrank_summary = lexrank_summarizer(text, stemmer, LANGUAGE, SENTENCES_COUNT)\n",
        "lsa_summary = lsa_summarizer(text, stemmer, LANGUAGE, SENTENCES_COUNT)\n",
        "luhn_summary = luhn_summarizer(text, stemmer, LANGUAGE, SENTENCES_COUNT)"
      ],
      "execution_count": 0,
      "outputs": []
    },
    {
      "cell_type": "code",
      "metadata": {
        "id": "khScsTccVcWE",
        "colab_type": "code",
        "colab": {
          "base_uri": "https://localhost:8080/",
          "height": 170
        },
        "outputId": "cda1e397-4aa2-4f1f-d5e8-170da51a063b"
      },
      "source": [
        "scores_gensim = rouge.get_scores(gensim_summary, reference)\n",
        "scores_gensim"
      ],
      "execution_count": 30,
      "outputs": [
        {
          "output_type": "execute_result",
          "data": {
            "text/plain": [
              "[{'rouge-1': {'f': 0.44848484435922875,\n",
              "   'p': 0.3162393162393162,\n",
              "   'r': 0.7708333333333334},\n",
              "  'rouge-2': {'f': 0.25471697711507657,\n",
              "   'p': 0.17647058823529413,\n",
              "   'r': 0.4576271186440678},\n",
              "  'rouge-l': {'f': 0.3269205498168501,\n",
              "   'p': 0.29914529914529914,\n",
              "   'r': 0.7291666666666666}}]"
            ]
          },
          "metadata": {
            "tags": []
          },
          "execution_count": 30
        }
      ]
    },
    {
      "cell_type": "code",
      "metadata": {
        "id": "QdAE_mfmVmzw",
        "colab_type": "code",
        "colab": {
          "base_uri": "https://localhost:8080/",
          "height": 170
        },
        "outputId": "a09955a6-0700-437f-e718-851731cfa605"
      },
      "source": [
        "scores_lexrank = rouge.get_scores(lexrank_summary, reference)\n",
        "scores_lexrank"
      ],
      "execution_count": 31,
      "outputs": [
        {
          "output_type": "execute_result",
          "data": {
            "text/plain": [
              "[{'rouge-1': {'f': 0.2825278781089261,\n",
              "   'p': 0.17194570135746606,\n",
              "   'r': 0.7916666666666666},\n",
              "  'rouge-2': {'f': 0.14427860446065696,\n",
              "   'p': 0.08454810495626822,\n",
              "   'r': 0.4915254237288136},\n",
              "  'rouge-l': {'f': 0.17354057099401488,\n",
              "   'p': 0.167420814479638,\n",
              "   'r': 0.7708333333333334}}]"
            ]
          },
          "metadata": {
            "tags": []
          },
          "execution_count": 31
        }
      ]
    },
    {
      "cell_type": "code",
      "metadata": {
        "id": "DgvwHbZNVtZb",
        "colab_type": "code",
        "colab": {
          "base_uri": "https://localhost:8080/",
          "height": 170
        },
        "outputId": "080fe1ee-deb3-4c99-d6b5-8a7f7a8092f4"
      },
      "source": [
        "scores_lsa = rouge.get_scores(lsa_summary, reference)\n",
        "scores_lsa"
      ],
      "execution_count": 32,
      "outputs": [
        {
          "output_type": "execute_result",
          "data": {
            "text/plain": [
              "[{'rouge-1': {'f': 0.2825278781089261,\n",
              "   'p': 0.17194570135746606,\n",
              "   'r': 0.7916666666666666},\n",
              "  'rouge-2': {'f': 0.14427860446065696,\n",
              "   'p': 0.08454810495626822,\n",
              "   'r': 0.4915254237288136},\n",
              "  'rouge-l': {'f': 0.17354057099401488,\n",
              "   'p': 0.167420814479638,\n",
              "   'r': 0.7708333333333334}}]"
            ]
          },
          "metadata": {
            "tags": []
          },
          "execution_count": 32
        }
      ]
    },
    {
      "cell_type": "code",
      "metadata": {
        "id": "71vIg_1zV4Zs",
        "colab_type": "code",
        "colab": {
          "base_uri": "https://localhost:8080/",
          "height": 170
        },
        "outputId": "27ac7e00-13bb-47a7-ef94-fb8078d9ad64"
      },
      "source": [
        "scores_luhn = rouge.get_scores(luhn_summary, reference)\n",
        "scores_luhn"
      ],
      "execution_count": 33,
      "outputs": [
        {
          "output_type": "execute_result",
          "data": {
            "text/plain": [
              "[{'rouge-1': {'f': 0.2825278781089261,\n",
              "   'p': 0.17194570135746606,\n",
              "   'r': 0.7916666666666666},\n",
              "  'rouge-2': {'f': 0.14427860446065696,\n",
              "   'p': 0.08454810495626822,\n",
              "   'r': 0.4915254237288136},\n",
              "  'rouge-l': {'f': 0.17354057099401488,\n",
              "   'p': 0.167420814479638,\n",
              "   'r': 0.7708333333333334}}]"
            ]
          },
          "metadata": {
            "tags": []
          },
          "execution_count": 33
        }
      ]
    },
    {
      "cell_type": "code",
      "metadata": {
        "id": "_8qdF3_XV-d0",
        "colab_type": "code",
        "colab": {
          "base_uri": "https://localhost:8080/",
          "height": 170
        },
        "outputId": "c78f8892-d49b-4ea1-b298-9c8a1b3fd77b"
      },
      "source": [
        "scores_custom"
      ],
      "execution_count": 35,
      "outputs": [
        {
          "output_type": "execute_result",
          "data": {
            "text/plain": [
              "[{'rouge-1': {'f': 0.2519684992349185,\n",
              "   'p': 0.20253164556962025,\n",
              "   'r': 0.3333333333333333},\n",
              "  'rouge-2': {'f': 0.0636942628244557,\n",
              "   'p': 0.05102040816326531,\n",
              "   'r': 0.0847457627118644},\n",
              "  'rouge-l': {'f': 0.15571599205407627,\n",
              "   'p': 0.13924050632911392,\n",
              "   'r': 0.22916666666666666}}]"
            ]
          },
          "metadata": {
            "tags": []
          },
          "execution_count": 35
        }
      ]
    },
    {
      "cell_type": "markdown",
      "metadata": {
        "id": "iNwoDN-OQsSX",
        "colab_type": "text"
      },
      "source": [
        "#### Using ROUGE-1 score for Evaluation:"
      ]
    },
    {
      "cell_type": "code",
      "metadata": {
        "id": "FDfXwyfTWAUc",
        "colab_type": "code",
        "colab": {
          "base_uri": "https://localhost:8080/",
          "height": 111
        },
        "outputId": "90522936-0a33-4708-8934-d84137495607"
      },
      "source": [
        "scores_custom[0]['rouge-1']\n",
        "pd.DataFrame(list(scores_custom[0]['rouge-1'].items())).T"
      ],
      "execution_count": 36,
      "outputs": [
        {
          "output_type": "execute_result",
          "data": {
            "text/html": [
              "<div>\n",
              "<style scoped>\n",
              "    .dataframe tbody tr th:only-of-type {\n",
              "        vertical-align: middle;\n",
              "    }\n",
              "\n",
              "    .dataframe tbody tr th {\n",
              "        vertical-align: top;\n",
              "    }\n",
              "\n",
              "    .dataframe thead th {\n",
              "        text-align: right;\n",
              "    }\n",
              "</style>\n",
              "<table border=\"1\" class=\"dataframe\">\n",
              "  <thead>\n",
              "    <tr style=\"text-align: right;\">\n",
              "      <th></th>\n",
              "      <th>0</th>\n",
              "      <th>1</th>\n",
              "      <th>2</th>\n",
              "    </tr>\n",
              "  </thead>\n",
              "  <tbody>\n",
              "    <tr>\n",
              "      <th>0</th>\n",
              "      <td>f</td>\n",
              "      <td>p</td>\n",
              "      <td>r</td>\n",
              "    </tr>\n",
              "    <tr>\n",
              "      <th>1</th>\n",
              "      <td>0.251968</td>\n",
              "      <td>0.202532</td>\n",
              "      <td>0.333333</td>\n",
              "    </tr>\n",
              "  </tbody>\n",
              "</table>\n",
              "</div>"
            ],
            "text/plain": [
              "          0         1         2\n",
              "0         f         p         r\n",
              "1  0.251968  0.202532  0.333333"
            ]
          },
          "metadata": {
            "tags": []
          },
          "execution_count": 36
        }
      ]
    },
    {
      "cell_type": "code",
      "metadata": {
        "id": "4KL4gN5cW5lA",
        "colab_type": "code",
        "colab": {
          "base_uri": "https://localhost:8080/",
          "height": 102
        },
        "outputId": "4c638850-4cf7-4e84-dfe5-5dc3dc883761"
      },
      "source": [
        "all_scores = [ scores_custom[0]['rouge-1'], scores_gensim[0]['rouge-1'], scores_lexrank[0]['rouge-1'], scores_lsa[0]['rouge-1'], scores_luhn[0]['rouge-1'] ]\n",
        "all_scores"
      ],
      "execution_count": 37,
      "outputs": [
        {
          "output_type": "execute_result",
          "data": {
            "text/plain": [
              "[{'f': 0.2519684992349185, 'p': 0.20253164556962025, 'r': 0.3333333333333333},\n",
              " {'f': 0.44848484435922875, 'p': 0.3162393162393162, 'r': 0.7708333333333334},\n",
              " {'f': 0.2825278781089261, 'p': 0.17194570135746606, 'r': 0.7916666666666666},\n",
              " {'f': 0.2825278781089261, 'p': 0.17194570135746606, 'r': 0.7916666666666666},\n",
              " {'f': 0.2825278781089261, 'p': 0.17194570135746606, 'r': 0.7916666666666666}]"
            ]
          },
          "metadata": {
            "tags": []
          },
          "execution_count": 37
        }
      ]
    },
    {
      "cell_type": "code",
      "metadata": {
        "id": "LqZ6m44EYYt7",
        "colab_type": "code",
        "colab": {
          "base_uri": "https://localhost:8080/",
          "height": 204
        },
        "outputId": "39a094be-db57-417f-cce7-b6aabda25e97"
      },
      "source": [
        "pd.DataFrame(all_scores)"
      ],
      "execution_count": 38,
      "outputs": [
        {
          "output_type": "execute_result",
          "data": {
            "text/html": [
              "<div>\n",
              "<style scoped>\n",
              "    .dataframe tbody tr th:only-of-type {\n",
              "        vertical-align: middle;\n",
              "    }\n",
              "\n",
              "    .dataframe tbody tr th {\n",
              "        vertical-align: top;\n",
              "    }\n",
              "\n",
              "    .dataframe thead th {\n",
              "        text-align: right;\n",
              "    }\n",
              "</style>\n",
              "<table border=\"1\" class=\"dataframe\">\n",
              "  <thead>\n",
              "    <tr style=\"text-align: right;\">\n",
              "      <th></th>\n",
              "      <th>f</th>\n",
              "      <th>p</th>\n",
              "      <th>r</th>\n",
              "    </tr>\n",
              "  </thead>\n",
              "  <tbody>\n",
              "    <tr>\n",
              "      <th>0</th>\n",
              "      <td>0.251968</td>\n",
              "      <td>0.202532</td>\n",
              "      <td>0.333333</td>\n",
              "    </tr>\n",
              "    <tr>\n",
              "      <th>1</th>\n",
              "      <td>0.448485</td>\n",
              "      <td>0.316239</td>\n",
              "      <td>0.770833</td>\n",
              "    </tr>\n",
              "    <tr>\n",
              "      <th>2</th>\n",
              "      <td>0.282528</td>\n",
              "      <td>0.171946</td>\n",
              "      <td>0.791667</td>\n",
              "    </tr>\n",
              "    <tr>\n",
              "      <th>3</th>\n",
              "      <td>0.282528</td>\n",
              "      <td>0.171946</td>\n",
              "      <td>0.791667</td>\n",
              "    </tr>\n",
              "    <tr>\n",
              "      <th>4</th>\n",
              "      <td>0.282528</td>\n",
              "      <td>0.171946</td>\n",
              "      <td>0.791667</td>\n",
              "    </tr>\n",
              "  </tbody>\n",
              "</table>\n",
              "</div>"
            ],
            "text/plain": [
              "          f         p         r\n",
              "0  0.251968  0.202532  0.333333\n",
              "1  0.448485  0.316239  0.770833\n",
              "2  0.282528  0.171946  0.791667\n",
              "3  0.282528  0.171946  0.791667\n",
              "4  0.282528  0.171946  0.791667"
            ]
          },
          "metadata": {
            "tags": []
          },
          "execution_count": 38
        }
      ]
    },
    {
      "cell_type": "code",
      "metadata": {
        "id": "fw8fAYZmZjDt",
        "colab_type": "code",
        "colab": {
          "base_uri": "https://localhost:8080/",
          "height": 204
        },
        "outputId": "063ca697-8eb5-41cc-efcd-2aae52e82bf9"
      },
      "source": [
        "labels = pd.DataFrame(['custom', 'gensim', 'lexrank', 'lsa', 'luhn'], columns=['summariser'])\n",
        "labels"
      ],
      "execution_count": 40,
      "outputs": [
        {
          "output_type": "execute_result",
          "data": {
            "text/html": [
              "<div>\n",
              "<style scoped>\n",
              "    .dataframe tbody tr th:only-of-type {\n",
              "        vertical-align: middle;\n",
              "    }\n",
              "\n",
              "    .dataframe tbody tr th {\n",
              "        vertical-align: top;\n",
              "    }\n",
              "\n",
              "    .dataframe thead th {\n",
              "        text-align: right;\n",
              "    }\n",
              "</style>\n",
              "<table border=\"1\" class=\"dataframe\">\n",
              "  <thead>\n",
              "    <tr style=\"text-align: right;\">\n",
              "      <th></th>\n",
              "      <th>summariser</th>\n",
              "    </tr>\n",
              "  </thead>\n",
              "  <tbody>\n",
              "    <tr>\n",
              "      <th>0</th>\n",
              "      <td>custom</td>\n",
              "    </tr>\n",
              "    <tr>\n",
              "      <th>1</th>\n",
              "      <td>gensim</td>\n",
              "    </tr>\n",
              "    <tr>\n",
              "      <th>2</th>\n",
              "      <td>lexrank</td>\n",
              "    </tr>\n",
              "    <tr>\n",
              "      <th>3</th>\n",
              "      <td>lsa</td>\n",
              "    </tr>\n",
              "    <tr>\n",
              "      <th>4</th>\n",
              "      <td>luhn</td>\n",
              "    </tr>\n",
              "  </tbody>\n",
              "</table>\n",
              "</div>"
            ],
            "text/plain": [
              "  summariser\n",
              "0     custom\n",
              "1     gensim\n",
              "2    lexrank\n",
              "3        lsa\n",
              "4       luhn"
            ]
          },
          "metadata": {
            "tags": []
          },
          "execution_count": 40
        }
      ]
    },
    {
      "cell_type": "code",
      "metadata": {
        "id": "uhjli1g4aQVo",
        "colab_type": "code",
        "colab": {
          "base_uri": "https://localhost:8080/",
          "height": 204
        },
        "outputId": "a552ad1a-7c34-4910-c95f-89fbbfc06b46"
      },
      "source": [
        "scores = labels.join(pd.DataFrame(all_scores).drop(labels = ['f','r'], axis = 1))\n",
        "scores"
      ],
      "execution_count": 52,
      "outputs": [
        {
          "output_type": "execute_result",
          "data": {
            "text/html": [
              "<div>\n",
              "<style scoped>\n",
              "    .dataframe tbody tr th:only-of-type {\n",
              "        vertical-align: middle;\n",
              "    }\n",
              "\n",
              "    .dataframe tbody tr th {\n",
              "        vertical-align: top;\n",
              "    }\n",
              "\n",
              "    .dataframe thead th {\n",
              "        text-align: right;\n",
              "    }\n",
              "</style>\n",
              "<table border=\"1\" class=\"dataframe\">\n",
              "  <thead>\n",
              "    <tr style=\"text-align: right;\">\n",
              "      <th></th>\n",
              "      <th>summariser</th>\n",
              "      <th>p</th>\n",
              "    </tr>\n",
              "  </thead>\n",
              "  <tbody>\n",
              "    <tr>\n",
              "      <th>0</th>\n",
              "      <td>custom</td>\n",
              "      <td>0.202532</td>\n",
              "    </tr>\n",
              "    <tr>\n",
              "      <th>1</th>\n",
              "      <td>gensim</td>\n",
              "      <td>0.316239</td>\n",
              "    </tr>\n",
              "    <tr>\n",
              "      <th>2</th>\n",
              "      <td>lexrank</td>\n",
              "      <td>0.171946</td>\n",
              "    </tr>\n",
              "    <tr>\n",
              "      <th>3</th>\n",
              "      <td>lsa</td>\n",
              "      <td>0.171946</td>\n",
              "    </tr>\n",
              "    <tr>\n",
              "      <th>4</th>\n",
              "      <td>luhn</td>\n",
              "      <td>0.171946</td>\n",
              "    </tr>\n",
              "  </tbody>\n",
              "</table>\n",
              "</div>"
            ],
            "text/plain": [
              "  summariser         p\n",
              "0     custom  0.202532\n",
              "1     gensim  0.316239\n",
              "2    lexrank  0.171946\n",
              "3        lsa  0.171946\n",
              "4       luhn  0.171946"
            ]
          },
          "metadata": {
            "tags": []
          },
          "execution_count": 52
        }
      ]
    },
    {
      "cell_type": "markdown",
      "metadata": {
        "id": "-BKvPiqgdTra",
        "colab_type": "text"
      },
      "source": [
        "* recall=x : x n-grams in the reference summary are also present in the generated summary.\n",
        "* precision=x : x of the n-grams in the generated summary are also present in the reference summary."
      ]
    },
    {
      "cell_type": "code",
      "metadata": {
        "id": "Sox4CT2SdhSf",
        "colab_type": "code",
        "colab": {
          "base_uri": "https://localhost:8080/",
          "height": 204
        },
        "outputId": "47675369-ba49-4461-9387-9011df6f1dd1"
      },
      "source": [
        "scores = scores[scores.select_dtypes(include=['number']).columns] * 100\n",
        "scores"
      ],
      "execution_count": 53,
      "outputs": [
        {
          "output_type": "execute_result",
          "data": {
            "text/html": [
              "<div>\n",
              "<style scoped>\n",
              "    .dataframe tbody tr th:only-of-type {\n",
              "        vertical-align: middle;\n",
              "    }\n",
              "\n",
              "    .dataframe tbody tr th {\n",
              "        vertical-align: top;\n",
              "    }\n",
              "\n",
              "    .dataframe thead th {\n",
              "        text-align: right;\n",
              "    }\n",
              "</style>\n",
              "<table border=\"1\" class=\"dataframe\">\n",
              "  <thead>\n",
              "    <tr style=\"text-align: right;\">\n",
              "      <th></th>\n",
              "      <th>p</th>\n",
              "    </tr>\n",
              "  </thead>\n",
              "  <tbody>\n",
              "    <tr>\n",
              "      <th>0</th>\n",
              "      <td>20.253165</td>\n",
              "    </tr>\n",
              "    <tr>\n",
              "      <th>1</th>\n",
              "      <td>31.623932</td>\n",
              "    </tr>\n",
              "    <tr>\n",
              "      <th>2</th>\n",
              "      <td>17.194570</td>\n",
              "    </tr>\n",
              "    <tr>\n",
              "      <th>3</th>\n",
              "      <td>17.194570</td>\n",
              "    </tr>\n",
              "    <tr>\n",
              "      <th>4</th>\n",
              "      <td>17.194570</td>\n",
              "    </tr>\n",
              "  </tbody>\n",
              "</table>\n",
              "</div>"
            ],
            "text/plain": [
              "           p\n",
              "0  20.253165\n",
              "1  31.623932\n",
              "2  17.194570\n",
              "3  17.194570\n",
              "4  17.194570"
            ]
          },
          "metadata": {
            "tags": []
          },
          "execution_count": 53
        }
      ]
    },
    {
      "cell_type": "code",
      "metadata": {
        "id": "hqC0cycBMtuR",
        "colab_type": "code",
        "colab": {
          "base_uri": "https://localhost:8080/",
          "height": 204
        },
        "outputId": "2bbfbf68-4669-49fe-ee0a-cc11ec029349"
      },
      "source": [
        "scores = labels.join(scores)\n",
        "scores"
      ],
      "execution_count": 54,
      "outputs": [
        {
          "output_type": "execute_result",
          "data": {
            "text/html": [
              "<div>\n",
              "<style scoped>\n",
              "    .dataframe tbody tr th:only-of-type {\n",
              "        vertical-align: middle;\n",
              "    }\n",
              "\n",
              "    .dataframe tbody tr th {\n",
              "        vertical-align: top;\n",
              "    }\n",
              "\n",
              "    .dataframe thead th {\n",
              "        text-align: right;\n",
              "    }\n",
              "</style>\n",
              "<table border=\"1\" class=\"dataframe\">\n",
              "  <thead>\n",
              "    <tr style=\"text-align: right;\">\n",
              "      <th></th>\n",
              "      <th>summariser</th>\n",
              "      <th>p</th>\n",
              "    </tr>\n",
              "  </thead>\n",
              "  <tbody>\n",
              "    <tr>\n",
              "      <th>0</th>\n",
              "      <td>custom</td>\n",
              "      <td>20.253165</td>\n",
              "    </tr>\n",
              "    <tr>\n",
              "      <th>1</th>\n",
              "      <td>gensim</td>\n",
              "      <td>31.623932</td>\n",
              "    </tr>\n",
              "    <tr>\n",
              "      <th>2</th>\n",
              "      <td>lexrank</td>\n",
              "      <td>17.194570</td>\n",
              "    </tr>\n",
              "    <tr>\n",
              "      <th>3</th>\n",
              "      <td>lsa</td>\n",
              "      <td>17.194570</td>\n",
              "    </tr>\n",
              "    <tr>\n",
              "      <th>4</th>\n",
              "      <td>luhn</td>\n",
              "      <td>17.194570</td>\n",
              "    </tr>\n",
              "  </tbody>\n",
              "</table>\n",
              "</div>"
            ],
            "text/plain": [
              "  summariser          p\n",
              "0     custom  20.253165\n",
              "1     gensim  31.623932\n",
              "2    lexrank  17.194570\n",
              "3        lsa  17.194570\n",
              "4       luhn  17.194570"
            ]
          },
          "metadata": {
            "tags": []
          },
          "execution_count": 54
        }
      ]
    },
    {
      "cell_type": "code",
      "metadata": {
        "id": "9azFqn0DNEHo",
        "colab_type": "code",
        "colab": {}
      },
      "source": [
        "import matplotlib.pyplot as plt\n",
        "%matplotlib inline"
      ],
      "execution_count": 0,
      "outputs": []
    },
    {
      "cell_type": "code",
      "metadata": {
        "id": "PMJzMNyTOsVk",
        "colab_type": "code",
        "colab": {
          "base_uri": "https://localhost:8080/",
          "height": 324
        },
        "outputId": "ef0fce1e-face-4ed7-a37c-3e4a633ed4f2"
      },
      "source": [
        "scores.plot.bar(x='summariser', y='p')"
      ],
      "execution_count": 56,
      "outputs": [
        {
          "output_type": "execute_result",
          "data": {
            "text/plain": [
              "<matplotlib.axes._subplots.AxesSubplot at 0x7fcc75bf3550>"
            ]
          },
          "metadata": {
            "tags": []
          },
          "execution_count": 56
        },
        {
          "output_type": "display_data",
          "data": {
            "image/png": "[encoded data removed]",
            "text/plain": [
              "<Figure size 432x288 with 1 Axes>"
            ]
          },
          "metadata": {
            "tags": []
          }
        }
      ]
    },
    {
      "cell_type": "markdown",
      "metadata": {
        "id": "TrGtAPaIQ5my",
        "colab_type": "text"
      },
      "source": [
        "##### Using ROUGE-2 score for Evaluation:"
      ]
    },
    {
      "cell_type": "code",
      "metadata": {
        "id": "VNGV8MAzPcLj",
        "colab_type": "code",
        "colab": {
          "base_uri": "https://localhost:8080/",
          "height": 204
        },
        "outputId": "9b514c64-1de7-4c0f-a781-58c1580a207d"
      },
      "source": [
        "all_scores = [ scores_custom[0]['rouge-2'], scores_gensim[0]['rouge-2'], scores_lexrank[0]['rouge-2'], scores_lsa[0]['rouge-2'], scores_luhn[0]['rouge-2'] ]\n",
        "pd.DataFrame(all_scores)"
      ],
      "execution_count": 59,
      "outputs": [
        {
          "output_type": "execute_result",
          "data": {
            "text/html": [
              "<div>\n",
              "<style scoped>\n",
              "    .dataframe tbody tr th:only-of-type {\n",
              "        vertical-align: middle;\n",
              "    }\n",
              "\n",
              "    .dataframe tbody tr th {\n",
              "        vertical-align: top;\n",
              "    }\n",
              "\n",
              "    .dataframe thead th {\n",
              "        text-align: right;\n",
              "    }\n",
              "</style>\n",
              "<table border=\"1\" class=\"dataframe\">\n",
              "  <thead>\n",
              "    <tr style=\"text-align: right;\">\n",
              "      <th></th>\n",
              "      <th>f</th>\n",
              "      <th>p</th>\n",
              "      <th>r</th>\n",
              "    </tr>\n",
              "  </thead>\n",
              "  <tbody>\n",
              "    <tr>\n",
              "      <th>0</th>\n",
              "      <td>0.063694</td>\n",
              "      <td>0.051020</td>\n",
              "      <td>0.084746</td>\n",
              "    </tr>\n",
              "    <tr>\n",
              "      <th>1</th>\n",
              "      <td>0.254717</td>\n",
              "      <td>0.176471</td>\n",
              "      <td>0.457627</td>\n",
              "    </tr>\n",
              "    <tr>\n",
              "      <th>2</th>\n",
              "      <td>0.144279</td>\n",
              "      <td>0.084548</td>\n",
              "      <td>0.491525</td>\n",
              "    </tr>\n",
              "    <tr>\n",
              "      <th>3</th>\n",
              "      <td>0.144279</td>\n",
              "      <td>0.084548</td>\n",
              "      <td>0.491525</td>\n",
              "    </tr>\n",
              "    <tr>\n",
              "      <th>4</th>\n",
              "      <td>0.144279</td>\n",
              "      <td>0.084548</td>\n",
              "      <td>0.491525</td>\n",
              "    </tr>\n",
              "  </tbody>\n",
              "</table>\n",
              "</div>"
            ],
            "text/plain": [
              "          f         p         r\n",
              "0  0.063694  0.051020  0.084746\n",
              "1  0.254717  0.176471  0.457627\n",
              "2  0.144279  0.084548  0.491525\n",
              "3  0.144279  0.084548  0.491525\n",
              "4  0.144279  0.084548  0.491525"
            ]
          },
          "metadata": {
            "tags": []
          },
          "execution_count": 59
        }
      ]
    },
    {
      "cell_type": "code",
      "metadata": {
        "id": "Rg0Ivf68RJkP",
        "colab_type": "code",
        "colab": {
          "base_uri": "https://localhost:8080/",
          "height": 204
        },
        "outputId": "de2e3d11-e21e-4493-e5e6-08dc1954fabd"
      },
      "source": [
        "scores = labels.join(pd.DataFrame(all_scores).drop(labels = ['f','r'], axis = 1))\n",
        "scores"
      ],
      "execution_count": 60,
      "outputs": [
        {
          "output_type": "execute_result",
          "data": {
            "text/html": [
              "<div>\n",
              "<style scoped>\n",
              "    .dataframe tbody tr th:only-of-type {\n",
              "        vertical-align: middle;\n",
              "    }\n",
              "\n",
              "    .dataframe tbody tr th {\n",
              "        vertical-align: top;\n",
              "    }\n",
              "\n",
              "    .dataframe thead th {\n",
              "        text-align: right;\n",
              "    }\n",
              "</style>\n",
              "<table border=\"1\" class=\"dataframe\">\n",
              "  <thead>\n",
              "    <tr style=\"text-align: right;\">\n",
              "      <th></th>\n",
              "      <th>summariser</th>\n",
              "      <th>p</th>\n",
              "    </tr>\n",
              "  </thead>\n",
              "  <tbody>\n",
              "    <tr>\n",
              "      <th>0</th>\n",
              "      <td>custom</td>\n",
              "      <td>0.051020</td>\n",
              "    </tr>\n",
              "    <tr>\n",
              "      <th>1</th>\n",
              "      <td>gensim</td>\n",
              "      <td>0.176471</td>\n",
              "    </tr>\n",
              "    <tr>\n",
              "      <th>2</th>\n",
              "      <td>lexrank</td>\n",
              "      <td>0.084548</td>\n",
              "    </tr>\n",
              "    <tr>\n",
              "      <th>3</th>\n",
              "      <td>lsa</td>\n",
              "      <td>0.084548</td>\n",
              "    </tr>\n",
              "    <tr>\n",
              "      <th>4</th>\n",
              "      <td>luhn</td>\n",
              "      <td>0.084548</td>\n",
              "    </tr>\n",
              "  </tbody>\n",
              "</table>\n",
              "</div>"
            ],
            "text/plain": [
              "  summariser         p\n",
              "0     custom  0.051020\n",
              "1     gensim  0.176471\n",
              "2    lexrank  0.084548\n",
              "3        lsa  0.084548\n",
              "4       luhn  0.084548"
            ]
          },
          "metadata": {
            "tags": []
          },
          "execution_count": 60
        }
      ]
    },
    {
      "cell_type": "code",
      "metadata": {
        "id": "4pjhDfr7RSNw",
        "colab_type": "code",
        "colab": {}
      },
      "source": [
        "scores = scores[scores.select_dtypes(include=['number']).columns] * 100\n",
        "scores = labels.join(scores)"
      ],
      "execution_count": 0,
      "outputs": []
    },
    {
      "cell_type": "code",
      "metadata": {
        "id": "ahnmasV3RbzV",
        "colab_type": "code",
        "colab": {
          "base_uri": "https://localhost:8080/",
          "height": 324
        },
        "outputId": "e85a235f-0554-4c00-dd66-b2f25e5ce9d8"
      },
      "source": [
        "scores.plot.bar(x='summariser', y='p')"
      ],
      "execution_count": 62,
      "outputs": [
        {
          "output_type": "execute_result",
          "data": {
            "text/plain": [
              "<matplotlib.axes._subplots.AxesSubplot at 0x7fcc74ba1f98>"
            ]
          },
          "metadata": {
            "tags": []
          },
          "execution_count": 62
        },
        {
          "output_type": "display_data",
          "data": {
            "image/png": "[encoded data removed]",
            "text/plain": [
              "<Figure size 432x288 with 1 Axes>"
            ]
          },
          "metadata": {
            "tags": []
          }
        }
      ]
    },
    {
      "cell_type": "code",
      "metadata": {
        "id": "o4Yb2eLeReeS",
        "colab_type": "code",
        "colab": {}
      },
      "source": [
        ""
      ],
      "execution_count": 0,
      "outputs": []
    }
  ]
}